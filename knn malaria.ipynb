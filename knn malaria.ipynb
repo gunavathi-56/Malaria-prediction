{
 "cells": [
  {
   "cell_type": "code",
   "execution_count": 7,
   "metadata": {
    "collapsed": false
   },
   "outputs": [
    {
     "name": "stdout",
     "output_type": "stream",
     "text": [
      "accuracy test 90.0217706821\n",
      "accuracy train 90.4109589041\n"
     ]
    }
   ],
   "source": [
    "import numpy as np \n",
    "import pandas as pd\n",
    "import matplotlib.pyplot as plt\n",
    "from sklearn.model_selection import train_test_split\n",
    "from sklearn.neighbors import KNeighborsClassifier\n",
     "from sklearn.metrics import classification_report\n",
    "mal=pd.read_csv(\"malaria.csv\")\n",
    "x=mal.drop('Label', axis=1)\n",
    "y=mal['Label']\n",
    "x_train, x_test, y_train, y_test = train_test_split(x, y, test_size=0.2)\n",
    "knn = KNeighborsClassifier(10)\n",
    "knn.fit(x_train, y_train)\n",
   
    "score1 = knn.score(x_test, y_test)\n",
    "print('accuracy test',score1*100)\n",
    "score2 = knn.score(x_train, y_train)\n",
    "print('accuracy train',score2*100)"
   ]
  },
  {
   "cell_type": "code",
   "execution_count": null,
   "metadata": {
    "collapsed": true
   },
   "outputs": [],
   "source": []
  }
 ],
 "metadata": {
  "kernelspec": {
   "display_name": "Python 3",
   "language": "python",
   "name": "python3"
  },
  "language_info": {
   "codemirror_mode": {
    "name": "ipython",
    "version": 3
   },
   "file_extension": ".py",
   "mimetype": "text/x-python",
   "name": "python",
   "nbconvert_exporter": "python",
   "pygments_lexer": "ipython3",
   "version": "3.6.0"
  }
 },
 "nbformat": 4,
 "nbformat_minor": 2
}
